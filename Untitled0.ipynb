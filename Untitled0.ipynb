{
  "nbformat": 4,
  "nbformat_minor": 0,
  "metadata": {
    "colab": {
      "provenance": [],
      "authorship_tag": "ABX9TyNOZiD36CWLODlnCPsRCS0b",
      "include_colab_link": true
    },
    "kernelspec": {
      "name": "python3",
      "display_name": "Python 3"
    },
    "language_info": {
      "name": "python"
    }
  },
  "cells": [
    {
      "cell_type": "markdown",
      "metadata": {
        "id": "view-in-github",
        "colab_type": "text"
      },
      "source": [
        "<a href=\"https://colab.research.google.com/github/SmirnovBogdan8/Diplom/blob/main/Untitled0.ipynb\" target=\"_parent\"><img src=\"https://colab.research.google.com/assets/colab-badge.svg\" alt=\"Open In Colab\"/></a>"
      ]
    },
    {
      "cell_type": "code",
      "execution_count": null,
      "metadata": {
        "colab": {
          "base_uri": "https://localhost:8080/"
        },
        "id": "MIdNGKXTWMta",
        "outputId": "02478aa2-b292-4da5-9590-6908ccd5fa77"
      },
      "outputs": [
        {
          "output_type": "stream",
          "name": "stdout",
          "text": [
            "Requirement already satisfied: torch in /usr/local/lib/python3.10/dist-packages (2.5.1+cu121)\n",
            "Requirement already satisfied: torchvision in /usr/local/lib/python3.10/dist-packages (0.20.1+cu121)\n",
            "Requirement already satisfied: torchaudio in /usr/local/lib/python3.10/dist-packages (2.5.1+cu121)\n",
            "Requirement already satisfied: numpy in /usr/local/lib/python3.10/dist-packages (1.26.4)\n",
            "Requirement already satisfied: matplotlib in /usr/local/lib/python3.10/dist-packages (3.10.0)\n",
            "Requirement already satisfied: filelock in /usr/local/lib/python3.10/dist-packages (from torch) (3.16.1)\n",
            "Requirement already satisfied: typing-extensions>=4.8.0 in /usr/local/lib/python3.10/dist-packages (from torch) (4.12.2)\n",
            "Requirement already satisfied: networkx in /usr/local/lib/python3.10/dist-packages (from torch) (3.4.2)\n",
            "Requirement already satisfied: jinja2 in /usr/local/lib/python3.10/dist-packages (from torch) (3.1.5)\n",
            "Requirement already satisfied: fsspec in /usr/local/lib/python3.10/dist-packages (from torch) (2024.10.0)\n",
            "Requirement already satisfied: sympy==1.13.1 in /usr/local/lib/python3.10/dist-packages (from torch) (1.13.1)\n",
            "Requirement already satisfied: mpmath<1.4,>=1.1.0 in /usr/local/lib/python3.10/dist-packages (from sympy==1.13.1->torch) (1.3.0)\n",
            "Requirement already satisfied: pillow!=8.3.*,>=5.3.0 in /usr/local/lib/python3.10/dist-packages (from torchvision) (11.1.0)\n",
            "Requirement already satisfied: contourpy>=1.0.1 in /usr/local/lib/python3.10/dist-packages (from matplotlib) (1.3.1)\n",
            "Requirement already satisfied: cycler>=0.10 in /usr/local/lib/python3.10/dist-packages (from matplotlib) (0.12.1)\n",
            "Requirement already satisfied: fonttools>=4.22.0 in /usr/local/lib/python3.10/dist-packages (from matplotlib) (4.55.3)\n",
            "Requirement already satisfied: kiwisolver>=1.3.1 in /usr/local/lib/python3.10/dist-packages (from matplotlib) (1.4.8)\n",
            "Requirement already satisfied: packaging>=20.0 in /usr/local/lib/python3.10/dist-packages (from matplotlib) (24.2)\n",
            "Requirement already satisfied: pyparsing>=2.3.1 in /usr/local/lib/python3.10/dist-packages (from matplotlib) (3.2.1)\n",
            "Requirement already satisfied: python-dateutil>=2.7 in /usr/local/lib/python3.10/dist-packages (from matplotlib) (2.8.2)\n",
            "Requirement already satisfied: six>=1.5 in /usr/local/lib/python3.10/dist-packages (from python-dateutil>=2.7->matplotlib) (1.17.0)\n",
            "Requirement already satisfied: MarkupSafe>=2.0 in /usr/local/lib/python3.10/dist-packages (from jinja2->torch) (3.0.2)\n"
          ]
        }
      ],
      "source": [
        "!pip install torch torchvision torchaudio numpy matplotlib"
      ]
    },
    {
      "cell_type": "markdown",
      "source": [
        "И"
      ],
      "metadata": {
        "id": "idV9y9nOjpDC"
      }
    },
    {
      "cell_type": "code",
      "source": [
        "import torch\n",
        "import torch.nn as nn\n",
        "import torch.optim as optim\n",
        "from torch.utils.data import DataLoader\n",
        "from torchvision import datasets, transforms\n",
        "from torch.nn.parallel import DataParallel\n",
        "import matplotlib.pyplot as plt"
      ],
      "metadata": {
        "id": "YrnFsTzgjm_r"
      },
      "execution_count": null,
      "outputs": []
    },
    {
      "cell_type": "code",
      "source": [
        "# Настройки\n",
        "batch_size = 128\n",
        "num_epochs = 20\n",
        "learning_rate = 0.001\n",
        "weight_decay = 0.0001\n",
        "device = 'cuda' if torch.cuda.is_available() else 'cpu'"
      ],
      "metadata": {
        "id": "dU8WrMzHkdXp"
      },
      "execution_count": null,
      "outputs": []
    },
    {
      "cell_type": "code",
      "source": [
        "# Подготовка данных\n",
        "transform = transforms.Compose([\n",
        "    transforms.ToTensor(),\n",
        "    transforms.Normalize((0.5,), (0.5,))\n",
        "])\n",
        "\n",
        "train_dataset = datasets.MNIST(root='./data', train=True, download=True, transform=transform)\n",
        "test_dataset = datasets.MNIST(root='./data', train=False, download=True, transform=transform)\n",
        "\n",
        "train_loader = DataLoader(train_dataset, batch_size=batch_size, shuffle=True, num_workers=8)\n",
        "test_loader = DataLoader(test_dataset, batch_size=batch_size, shuffle=False, num_workers=8)"
      ],
      "metadata": {
        "id": "2RuZ9t7akgBB"
      },
      "execution_count": null,
      "outputs": []
    },
    {
      "cell_type": "code",
      "source": [
        "# Выводим случайные 25 изображений из тренировочного набора данных\n",
        "fig, axes = plt.subplots(nrows=5, ncols=5, figsize=(12, 12))\n",
        "\n",
        "for i in range(25):\n",
        "    random_index = torch.randint(len(train_dataset), size=(1,)).item()\n",
        "    image, label = train_dataset[random_index]\n",
        "\n",
        "    ax = axes[i // 5][i % 5]\n",
        "    ax.imshow(image.squeeze(), cmap='gray')\n",
        "    ax.set_title(f'{label}')\n",
        "    ax.axis('off')\n",
        "\n",
        "plt.tight_layout()\n",
        "plt.show()"
      ],
      "metadata": {
        "colab": {
          "base_uri": "https://localhost:8080/",
          "height": 1000
        },
        "id": "7nF8_QJJk4uv",
        "outputId": "8adf650a-76ce-410b-f463-44ce73337386"
      },
      "execution_count": null,
      "outputs": [
        {
          "output_type": "display_data",
          "data": {
            "text/plain": [
              "<Figure size 1200x1200 with 25 Axes>"
            ],
            "image/png": "[encoded data removed]"
          },
          "metadata": {}
        }
      ]
    },
    {
      "cell_type": "code",
      "source": [
        "# Создание модели\n",
        "class CNN(nn.Module):\n",
        "    def __init__(self):\n",
        "        super().__init__()\n",
        "        self.conv1 = nn.Conv2d(1, 32, kernel_size=3, stride=1, padding=1)\n",
        "        self.pool = nn.MaxPool2d(kernel_size=2, stride=2)\n",
        "        self.conv2 = nn.Conv2d(32, 64, kernel_size=3, stride=1, padding=1)\n",
        "        self.fc1 = nn.Linear(7*7*64, 128)\n",
        "        self.fc2 = nn.Linear(128, 10)\n",
        "\n",
        "    def forward(self, x):\n",
        "        x = self.pool(torch.relu(self.conv1(x)))\n",
        "        x = self.pool(torch.relu(self.conv2(x)))\n",
        "        x = x.view(-1, 7*7*64)\n",
        "        x = torch.relu(self.fc1(x))\n",
        "        x = self.fc2(x)\n",
        "        return x\n",
        "\n",
        "model = CNN().to(device)\n",
        "if torch.cuda.device_count() > 1:\n",
        "    model = DataParallel(model, device_ids=list(range(torch.cuda.device_count())))"
      ],
      "metadata": {
        "id": "0xiKZvSCkiIK"
      },
      "execution_count": null,
      "outputs": []
    },
    {
      "cell_type": "code",
      "source": [
        "# Критерий и оптимизатор\n",
        "criterion = nn.CrossEntropyLoss()\n",
        "optimizer = optim.AdamW(model.parameters(), lr=learning_rate, weight_decay=weight_decay)"
      ],
      "metadata": {
        "id": "Qh12umKtkkUi"
      },
      "execution_count": null,
      "outputs": []
    },
    {
      "cell_type": "code",
      "source": [
        "# Обучение модели\n",
        "train_loss_list = []\n",
        "for epoch in range(num_epochs):\n",
        "    print(f'Epoch {epoch+1}/{num_epochs}')\n",
        "    train_loss = 0\n",
        "\n",
        "    # Цикл по тренировочным данным\n",
        "    model.train()\n",
        "    for i, (inputs, labels) in enumerate(train_loader):\n",
        "        inputs, labels = inputs.to(device), labels.to(device)\n",
        "\n",
        "        # Шаг оптимизатора\n",
        "        optimizer.zero_grad()\n",
        "        outputs = model(inputs)\n",
        "        loss = criterion(outputs, labels)\n",
        "        loss.backward()\n",
        "        optimizer.step()\n",
        "\n",
        "        train_loss += loss.item()\n",
        "\n",
        "    # Усреднение потерь\n",
        "    train_loss /= len(train_loader)\n",
        "    train_loss_list.append(train_loss)\n",
        "    print(f'Training Loss: {train_loss:.4f}')"
      ],
      "metadata": {
        "colab": {
          "base_uri": "https://localhost:8080/"
        },
        "id": "C5v9mDVWknqy",
        "outputId": "d940fd45-c389-4a62-8928-7120a7dc291a"
      },
      "execution_count": null,
      "outputs": [
        {
          "output_type": "stream",
          "name": "stdout",
          "text": [
            "Epoch 1/20\n",
            "Training Loss: 0.2156\n",
            "Epoch 2/20\n",
            "Training Loss: 0.0538\n",
            "Epoch 3/20\n",
            "Training Loss: 0.0365\n",
            "Epoch 4/20\n",
            "Training Loss: 0.0271\n",
            "Epoch 5/20\n",
            "Training Loss: 0.0208\n",
            "Epoch 6/20\n",
            "Training Loss: 0.0176\n",
            "Epoch 7/20\n",
            "Training Loss: 0.0142\n",
            "Epoch 8/20\n",
            "Training Loss: 0.0115\n",
            "Epoch 9/20\n",
            "Training Loss: 0.0089\n",
            "Epoch 10/20\n",
            "Training Loss: 0.0075\n",
            "Epoch 11/20\n",
            "Training Loss: 0.0079\n",
            "Epoch 12/20\n",
            "Training Loss: 0.0055\n",
            "Epoch 13/20\n",
            "Training Loss: 0.0045\n",
            "Epoch 14/20\n",
            "Training Loss: 0.0080\n",
            "Epoch 15/20\n",
            "Training Loss: 0.0038\n",
            "Epoch 16/20\n",
            "Training Loss: 0.0050\n",
            "Epoch 17/20\n",
            "Training Loss: 0.0053\n",
            "Epoch 18/20\n",
            "Training Loss: 0.0032\n",
            "Epoch 19/20\n",
            "Training Loss: 0.0023\n",
            "Epoch 20/20\n",
            "Training Loss: 0.0048\n"
          ]
        }
      ]
    },
    {
      "cell_type": "code",
      "source": [
        "# Получение точности модели\n",
        "model.eval()\n",
        "correct = 0\n",
        "total = 0\n",
        "with torch.no_grad():\n",
        "    for data in test_loader:\n",
        "        images, labels = data[0].to(device), data[1].to(device)\n",
        "        outputs = model(images)\n",
        "        _, predicted = torch.max(outputs.data, 1)\n",
        "        total += labels.size(0)\n",
        "        correct += (predicted == labels).sum().item()\n",
        "\n",
        "accuracy = 100 * correct / total\n",
        "print('Accuracy on test set: {} %'.format(accuracy))\n",
        "\n",
        "# Сохраняем модель\n",
        "torch.save(model.module.state_dict() if hasattr(model, 'module') else model.state_dict(), 'mnist_cnn.pt')"
      ],
      "metadata": {
        "colab": {
          "base_uri": "https://localhost:8080/"
        },
        "id": "MZefD93XQJDe",
        "outputId": "fa5b0eef-4a7c-4381-f147-6a8c9bc88be4"
      },
      "execution_count": null,
      "outputs": [
        {
          "output_type": "stream",
          "name": "stdout",
          "text": [
            "Accuracy on test set: 99.08 %\n"
          ]
        }
      ]
    },
    {
      "cell_type": "code",
      "source": [
        "num_images = 5\n",
        "\n",
        "test_data = next(iter(test_loader))  # Берём последний батч из тестового загрузчика\n",
        "images, y_true = test_data\n",
        "\n",
        "model.eval()\n",
        "with torch.no_grad():\n",
        "    y_pred = model(images.to(device))\n",
        "    y_pred = torch.argmax(y_pred, dim=1).cpu().numpy()\n",
        "\n",
        "classes = list(map(str, range(10)))  # Список цифр от '0' до '9'\n",
        "y_true_name = [classes[int(label)] for label in y_true[:num_images]]\n",
        "y_pred_name = [classes[pred] for pred in y_pred[:num_images]]\n",
        "\n",
        "title = f\"Actual labels: {y_true_name}\\nPredicted labels: {y_pred_name}\"\n",
        "\n",
        "grid = torchvision.utils.make_grid(images[:num_images], normalize=True, padding=1)\n",
        "npimg = grid.numpy().transpose((1, 2, 0))\n",
        "plt.figure(figsize=(15, 6))\n",
        "plt.imshow(npimg)\n",
        "plt.title(title)\n",
        "plt.axis(\"off\")\n",
        "plt.show()"
      ],
      "metadata": {
        "colab": {
          "base_uri": "https://localhost:8080/",
          "height": 319
        },
        "id": "O73cqAV8cTL5",
        "outputId": "e83d345f-c8a6-4c60-c168-46c705d586be"
      },
      "execution_count": null,
      "outputs": [
        {
          "output_type": "display_data",
          "data": {
            "text/plain": [
              "<Figure size 1500x600 with 1 Axes>"
            ],
            "image/png": "[encoded data removed]"
          },
          "metadata": {}
        }
      ]
    },
    {
      "cell_type": "code",
      "source": [
        "import random\n",
        "import torch\n",
        "import torchvision\n",
        "from torchvision import transforms\n",
        "import matplotlib.pyplot as plt\n",
        "import numpy as np\n",
        "\n",
        "transform = transforms.Compose([\n",
        "    transforms.ToTensor(),\n",
        "    transforms.Normalize((0.5, 0.5, 0.5), (0.5, 0.5, 0.5)),\n",
        "])\n",
        "\n",
        "index = random.randint(0, len(test_dataset) - 1)\n",
        "\n",
        "image, label = test_dataset[index]\n",
        "\n",
        "input_tensor = image\n",
        "\n",
        "plt.imshow(np.transpose(input_tensor.numpy(), (1, 2, 0)))\n",
        "plt.axis('off')\n",
        "plt.title(f\"Label: {test_dataset.classes[label]}\")\n",
        "\n",
        "model.eval()\n",
        "with torch.no_grad():\n",
        "    output = model(input_tensor.unsqueeze(0))\n",
        "    _, preds = torch.max(output, dim=1)\n",
        "    predicted_category = test_dataset.classes[preds.item()]\n",
        "\n",
        "plt.text(-0.7, 0.9, f\"Prediction: {predicted_category}\", fontdict={'fontsize': 16})\n",
        "\n",
        "# Show the plot\n",
        "plt.show()"
      ],
      "metadata": {
        "colab": {
          "base_uri": "https://localhost:8080/",
          "height": 521
        },
        "id": "Vo-PSI-zcco7",
        "outputId": "3e58cac0-9a7b-4faa-ce03-96af6f87a210"
      },
      "execution_count": null,
      "outputs": [
        {
          "output_type": "display_data",
          "data": {
            "text/plain": [
              "<Figure size 1400x600 with 1 Axes>"
            ],
            "image/png": "[encoded data removed]"
          },
          "metadata": {}
        }
      ]
    }
  ]
}